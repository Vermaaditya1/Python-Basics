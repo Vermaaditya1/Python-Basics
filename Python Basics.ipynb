{
 "cells": [
  {
   "cell_type": "markdown",
   "id": "19a2ea69",
   "metadata": {},
   "source": [
    "### Python Basic questions"
   ]
  },
  {
   "cell_type": "code",
   "execution_count": 1,
   "id": "6fb41d96",
   "metadata": {},
   "outputs": [],
   "source": [
    "## 1) What is python and why it is popular?\n",
    "\n",
    "#Ans Python is the easiest programming language which is user friendly and also provide multiple \n",
    "#     libraries for different types of computation.\n",
    "#     It includes mathematical operations, model building, web development and many different things.\"\"\""
   ]
  },
  {
   "cell_type": "code",
   "execution_count": 2,
   "id": "915d483f",
   "metadata": {},
   "outputs": [],
   "source": [
    "## 2) What is a interpreter in python?\n",
    "\n",
    "##Ans An Interpreter in python is a translator which allow user to communicate with the machine in their language."
   ]
  },
  {
   "cell_type": "code",
   "execution_count": 3,
   "id": "f40bc94c",
   "metadata": {},
   "outputs": [],
   "source": [
    "## 3) What are pre-defined keywords in python?\n",
    "\n",
    "##Ans Pre defined keywords are reserved words for specific use cases in python"
   ]
  },
  {
   "cell_type": "code",
   "execution_count": 4,
   "id": "11016fcf",
   "metadata": {},
   "outputs": [],
   "source": [
    "##4) Can a keyword can be used as variable?\n",
    "\n",
    "##Ans No we should not use keywords as variable in python as it will override the function which is already in work."
   ]
  },
  {
   "cell_type": "code",
   "execution_count": 5,
   "id": "1b7d2371",
   "metadata": {},
   "outputs": [],
   "source": [
    "##5) what is mutability in python?\n",
    "\n",
    "##Ans It means we can change the object value after the creation of the object ex. list"
   ]
  },
  {
   "cell_type": "code",
   "execution_count": 6,
   "id": "f8c6e8b6",
   "metadata": {},
   "outputs": [],
   "source": [
    "## 6) why lists are mutable, but tuples are immutable?\n",
    "\n",
    "##Ans lists are mutable to supports dynamic operations like remove, \n",
    "## add and change while tuple are immutable to manage data integrity"
   ]
  },
  {
   "cell_type": "code",
   "execution_count": 7,
   "id": "4baaa898",
   "metadata": {},
   "outputs": [],
   "source": [
    "##7) what are the difference between '==' and 'is' operators in python?\n",
    "\n",
    "##Ans 'is' operator is used to check the different variables are pointing to the \n",
    "## same value in memory while '==' operator is use to check if both the values are equal or not"
   ]
  },
  {
   "cell_type": "code",
   "execution_count": 8,
   "id": "6c283737",
   "metadata": {},
   "outputs": [],
   "source": [
    "##8) What are logical operator in python\n",
    "\n",
    "##Ans logical operators in python are: \n",
    "##      and - return True only if both the conditions are satisfying\n",
    "##    or - return True if any one condition is satisfying\n",
    "##    not - reverse the result for ex. not True will return False"
   ]
  },
  {
   "cell_type": "code",
   "execution_count": 9,
   "id": "f2c54e7c",
   "metadata": {},
   "outputs": [],
   "source": [
    "##9) what is type casting in python?\n",
    "\n",
    "##ANs It is a process in python which allows to change the variable data types."
   ]
  },
  {
   "cell_type": "code",
   "execution_count": 10,
   "id": "400f19fa",
   "metadata": {},
   "outputs": [],
   "source": [
    "##10) what is the difference between implicit and explicit type casting?\n",
    "\n",
    "#Ans implicit type casting means the computer already understand the type of variable\n",
    "##    and in explicit we manually defined the type of variable."
   ]
  },
  {
   "cell_type": "code",
   "execution_count": 11,
   "id": "7c031845",
   "metadata": {},
   "outputs": [],
   "source": [
    "##11) what is the purpose of conditional statement in python?\n",
    "\n",
    "##Ans) to control the flow of a program by making decisions based on conditions"
   ]
  },
  {
   "cell_type": "code",
   "execution_count": 12,
   "id": "7b76f456",
   "metadata": {},
   "outputs": [],
   "source": [
    "##12) how does the elif statement works?\n",
    "\n",
    "#Ans it checks multiple conditions in sequence and executes different codes depending on which condition is true"
   ]
  },
  {
   "cell_type": "code",
   "execution_count": 13,
   "id": "6691d4cd",
   "metadata": {},
   "outputs": [],
   "source": [
    "#13) what is the difference between for and while loop?\n",
    "#ans for loop used for known iteration on the other hand while loop used for unknown iterations"
   ]
  },
  {
   "cell_type": "code",
   "execution_count": null,
   "id": "49f2156d",
   "metadata": {},
   "outputs": [],
   "source": []
  },
  {
   "cell_type": "code",
   "execution_count": 14,
   "id": "a55eb940",
   "metadata": {},
   "outputs": [],
   "source": [
    "##14) describe a scenario where while loop is more suitable than for loop?\n",
    "\n",
    "##Ans in a condition when we want to satisfy a condition then it is suitable"
   ]
  },
  {
   "cell_type": "markdown",
   "id": "40d09f8f",
   "metadata": {},
   "source": [
    "### Practical Questions"
   ]
  },
  {
   "cell_type": "code",
   "execution_count": 15,
   "id": "106b9342",
   "metadata": {},
   "outputs": [
    {
     "name": "stdout",
     "output_type": "stream",
     "text": [
      "Hello World\n"
     ]
    }
   ],
   "source": [
    "## 1. python code to print hello world\n",
    "\n",
    "print(\"Hello World\")"
   ]
  },
  {
   "cell_type": "code",
   "execution_count": 16,
   "id": "7c275eb5",
   "metadata": {},
   "outputs": [
    {
     "name": "stdout",
     "output_type": "stream",
     "text": [
      "Name  Aditya Verma\n",
      "Age  20\n"
     ]
    }
   ],
   "source": [
    "## 2. code to print your name and Age\n",
    "\n",
    "name = \"Aditya Verma\"\n",
    "age = 20\n",
    "\n",
    "print(\"Name \",name)\n",
    "print(\"Age \",age)"
   ]
  },
  {
   "cell_type": "code",
   "execution_count": 17,
   "id": "78aa7ba1",
   "metadata": {},
   "outputs": [
    {
     "name": "stdout",
     "output_type": "stream",
     "text": [
      "\n",
      "Here is a list of the Python keywords.  Enter any keyword to get more help.\n",
      "\n",
      "False               class               from                or\n",
      "None                continue            global              pass\n",
      "True                def                 if                  raise\n",
      "and                 del                 import              return\n",
      "as                  elif                in                  try\n",
      "assert              else                is                  while\n",
      "async               except              lambda              with\n",
      "await               finally             nonlocal            yield\n",
      "break               for                 not                 \n",
      "\n"
     ]
    }
   ],
   "source": [
    "## 3. write a code to print all the predefine keywords\n",
    "\n",
    "help('keywords')"
   ]
  },
  {
   "cell_type": "code",
   "execution_count": 18,
   "id": "5c77ee38",
   "metadata": {},
   "outputs": [
    {
     "name": "stdout",
     "output_type": "stream",
     "text": [
      "Enter a word = print\n",
      "Given word is not a keyword\n"
     ]
    }
   ],
   "source": [
    "## 4. program to check if the given word is keyword or not\n",
    "\n",
    "import keyword\n",
    "\n",
    "word = input(\"Enter a word = \")\n",
    "\n",
    "if keyword.iskeyword(word):\n",
    "    print(\"Given word is a keyword\")\n",
    "else:\n",
    "    print(\"Given word is not a keyword\")"
   ]
  },
  {
   "cell_type": "code",
   "execution_count": 19,
   "id": "0f93ff2b",
   "metadata": {},
   "outputs": [
    {
     "name": "stdout",
     "output_type": "stream",
     "text": [
      "original list [1, 2, 4, 5]\n",
      "original tuple (1, 2, 3, 5, 6)\n",
      "modify list [1, 2, 10, 5]\n"
     ]
    }
   ],
   "source": [
    "## 5 create a list and tuple in python and demonstrate how attempting to change an element wworks differently for each\n",
    "\n",
    "l1 = [1,2,4,5]\n",
    "t1 = (1,2,3,5,6)\n",
    "print(\"original list\",l1)\n",
    "print(\"original tuple\",t1)\n",
    "\n",
    "l1[2] = 10\n",
    "print(\"modify list\", l1)\n",
    "\n",
    "#t1[2] = 20 #TypeError: 'tuple' object does not support item assignment"
   ]
  },
  {
   "cell_type": "code",
   "execution_count": 20,
   "id": "e93973ee",
   "metadata": {},
   "outputs": [
    {
     "name": "stdout",
     "output_type": "stream",
     "text": [
      "Mutable object before applying function ['1', '2', '3', 100]\n",
      "Mutable object after applying function ['1', '2', '3', 100, 100]\n",
      "Immutable object before applying function ('1', '3', '5')\n"
     ]
    },
    {
     "ename": "AttributeError",
     "evalue": "'tuple' object has no attribute 'append'",
     "output_type": "error",
     "traceback": [
      "\u001b[1;31m---------------------------------------------------------------------------\u001b[0m",
      "\u001b[1;31mAttributeError\u001b[0m                            Traceback (most recent call last)",
      "Cell \u001b[1;32mIn[20], line 30\u001b[0m\n\u001b[0;32m     27\u001b[0m immutable_list \u001b[38;5;241m=\u001b[39m (\u001b[38;5;124m'\u001b[39m\u001b[38;5;124m1\u001b[39m\u001b[38;5;124m'\u001b[39m,\u001b[38;5;124m'\u001b[39m\u001b[38;5;124m3\u001b[39m\u001b[38;5;124m'\u001b[39m,\u001b[38;5;124m'\u001b[39m\u001b[38;5;124m5\u001b[39m\u001b[38;5;124m'\u001b[39m)\n\u001b[0;32m     28\u001b[0m \u001b[38;5;28mprint\u001b[39m(\u001b[38;5;124m\"\u001b[39m\u001b[38;5;124mImmutable object before applying function\u001b[39m\u001b[38;5;124m\"\u001b[39m,immutable_list)\n\u001b[1;32m---> 30\u001b[0m immutable_behavior(immutable_list)\n\u001b[0;32m     33\u001b[0m \u001b[38;5;28mprint\u001b[39m(\u001b[38;5;124m\"\u001b[39m\u001b[38;5;124mImmutable object after applying function\u001b[39m\u001b[38;5;124m\"\u001b[39m,immutable_list)\n",
      "Cell \u001b[1;32mIn[20], line 14\u001b[0m, in \u001b[0;36mimmutable_behavior\u001b[1;34m(immutable)\u001b[0m\n\u001b[0;32m     12\u001b[0m \u001b[38;5;28;01mdef\u001b[39;00m \u001b[38;5;21mimmutable_behavior\u001b[39m(immutable):\n\u001b[1;32m---> 14\u001b[0m     immutable\u001b[38;5;241m.\u001b[39mappend(\u001b[38;5;241m10\u001b[39m)\n",
      "\u001b[1;31mAttributeError\u001b[0m: 'tuple' object has no attribute 'append'"
     ]
    }
   ],
   "source": [
    "## 6. write a function to demonstrate the behavior of mutable and immutable arguments\n",
    "\n",
    "def mutable_behavior(mutable):\n",
    "    \n",
    "    mutable.append(100)\n",
    "    \n",
    "#     print(\"Mutable object\",mutable)\n",
    "#     print(\"Immutable object\",immutable)\n",
    "\n",
    "\n",
    "\n",
    "def immutable_behavior(immutable):\n",
    "    \n",
    "    immutable.append(10)\n",
    "    \n",
    "    \n",
    "    \n",
    "mutable_list = ['1','2','3']\n",
    "mutable_behavior(mutable_list)\n",
    "print(\"Mutable object before applying function\",mutable_list)\n",
    "\n",
    "mutable_behavior(mutable_list)\n",
    "\n",
    "print(\"Mutable object after applying function\",mutable_list)\n",
    "\n",
    "\n",
    "immutable_list = ('1','3','5')\n",
    "print(\"Immutable object before applying function\",immutable_list)\n",
    "\n",
    "immutable_behavior(immutable_list)\n",
    "\n",
    "\n",
    "print(\"Immutable object after applying function\",immutable_list)"
   ]
  },
  {
   "cell_type": "code",
   "execution_count": 21,
   "id": "a6ef2b7a",
   "metadata": {},
   "outputs": [
    {
     "name": "stdout",
     "output_type": "stream",
     "text": [
      "Before function call:\n",
      "Mutable object: [1, 2, 3]\n",
      "Immutable object: 5\n",
      "Mutable object after modification: [1, 2, 3, 100]\n",
      "Immutable object after modification: 15\n",
      "After function call:\n",
      "Mutable object: [1, 2, 3, 100]\n",
      "Immutable object: 5\n"
     ]
    }
   ],
   "source": [
    "## 7. write a function to demonstrate the behavior of mutable and immutable arguments\n",
    "\n",
    "def demo_mutable_immutable(mutable_obj, immutable_obj):\n",
    "    mutable_obj.append(100)\n",
    "    print(\"Mutable object after modification:\", mutable_obj)\n",
    "    \n",
    "    immutable_obj += 10\n",
    "    print(\"Immutable object after modification:\", immutable_obj)\n",
    "\n",
    "# Create a mutable object (list) and an immutable object (integer)\n",
    "my_list = [1, 2, 3]\n",
    "my_number = 5\n",
    "\n",
    "print(\"Before function call:\")\n",
    "print(\"Mutable object:\", my_list)\n",
    "print(\"Immutable object:\", my_number)\n",
    "\n",
    "# Call the function\n",
    "demo_mutable_immutable(my_list, my_number)\n",
    "\n",
    "print(\"After function call:\")\n",
    "print(\"Mutable object:\", my_list)\n",
    "print(\"Immutable object:\", my_number)\n"
   ]
  },
  {
   "cell_type": "code",
   "execution_count": 24,
   "id": "607dbf31",
   "metadata": {},
   "outputs": [
    {
     "name": "stdout",
     "output_type": "stream",
     "text": [
      "Enter number 1 = 213\n",
      "Enter number 2 = 42\n",
      "Both are positive number\n",
      "-----------------------------\n",
      "Any 1 is positive\n",
      "-----------------------------\n",
      "Both are different\n"
     ]
    }
   ],
   "source": [
    "## 8. program to demonstrate the use of logical operators\n",
    "\n",
    "n1 = int(input(\"Enter number 1 = \"))\n",
    "n2 = int(input(\"Enter number 2 = \"))\n",
    "\n",
    "## and operator\n",
    "if n1 > 0 and n2 > 0:\n",
    "    print(\"Both are positive number\")\n",
    "\n",
    "print('-----------------------------')\n",
    "## or operator\n",
    "\n",
    "if n1 > 0 or n2 > 0:\n",
    "    print(\"Any 1 is positive\")\n",
    "    \n",
    "print('-----------------------------')\n",
    "\n",
    "\n",
    "## not operator\n",
    "\n",
    "if not (n1 == n2):\n",
    "    print(\"Both are different\")\n",
    "else:\n",
    "    print('both are same')"
   ]
  },
  {
   "cell_type": "code",
   "execution_count": 25,
   "id": "db90677d",
   "metadata": {},
   "outputs": [
    {
     "name": "stdout",
     "output_type": "stream",
     "text": [
      "Enter a value = 342\n",
      "type of data before changing <class 'str'>\n",
      "-------------------------\n",
      " Converted to integer 342 and Data type is <class 'int'>\n",
      "-------------------------\n",
      " Converted to float 342.0 and data type<class 'float'>\n",
      "-------------------------\n",
      " Converted to Boolean True data type<class 'bool'>\n"
     ]
    }
   ],
   "source": [
    "## 9. program to convert the user input from string to integer, float and boolean type\n",
    "\n",
    "a = input(\"Enter a value = \")\n",
    "\n",
    "print(\"type of data before changing\",type(a))\n",
    "\n",
    "print('-------------------------')\n",
    "def convert_int(a):\n",
    "    a_int = int(a)\n",
    "    print(f\" Converted to integer {a_int} and Data type is {type(a_int)}\")\n",
    "\n",
    "convert_int(a)\n",
    "print('-------------------------')\n",
    "def convert_float(a):\n",
    "    a_float = float(a)\n",
    "    print(f\" Converted to float {a_float} and data type{type(a_float)}\")\n",
    "\n",
    "convert_float(a)\n",
    "print('-------------------------')\n",
    "\n",
    "def convert_bool(a):\n",
    "    a_bool = bool(a)\n",
    "    print(f\" Converted to Boolean {a_bool} data type{type(a_bool)}\")\n",
    "\n",
    "convert_bool(a)\n"
   ]
  },
  {
   "cell_type": "code",
   "execution_count": 26,
   "id": "7ec28804",
   "metadata": {},
   "outputs": [
    {
     "name": "stdout",
     "output_type": "stream",
     "text": [
      "String list before conversion  ['1', '2', '4', '5', '6', '7']\n",
      "list after conversion  [1, 2, 4, 5, 6, 7]\n"
     ]
    }
   ],
   "source": [
    "## 10. code to show type casting with list elements\n",
    "\n",
    "str_lis = [\"1\",\"2\",\"4\",\"5\",\"6\",\"7\"]\n",
    "\n",
    "int_lis = [int(num) for num in str_lis]\n",
    "\n",
    "print(\"String list before conversion \", str_lis)\n",
    "print(\"list after conversion \",int_lis)"
   ]
  },
  {
   "cell_type": "code",
   "execution_count": 27,
   "id": "8babca54",
   "metadata": {},
   "outputs": [
    {
     "name": "stdout",
     "output_type": "stream",
     "text": [
      "Positive\n",
      "-------------------------\n",
      "Negative\n",
      "-------------------------\n",
      "The number is zero\n"
     ]
    }
   ],
   "source": [
    "## 11. write program to check if the number is positive negative or zero\n",
    "\n",
    "def check_number(n):\n",
    "    if n > 0:\n",
    "        print(\"Positive\")\n",
    "    elif n < 0:\n",
    "        print(\"Negative\")\n",
    "    else:\n",
    "        print(\"The number is zero\")\n",
    "    \n",
    "\n",
    "check_number(1)\n",
    "print('-------------------------')\n",
    "check_number(-1)\n",
    "print('-------------------------')\n",
    "check_number(0)"
   ]
  },
  {
   "cell_type": "code",
   "execution_count": 28,
   "id": "cfb1ff00",
   "metadata": {},
   "outputs": [
    {
     "name": "stdout",
     "output_type": "stream",
     "text": [
      "1\n",
      "2\n",
      "3\n",
      "4\n",
      "5\n",
      "6\n",
      "7\n",
      "8\n",
      "9\n",
      "10\n"
     ]
    }
   ],
   "source": [
    "##12. write a for loop to print number from 1 to 10\n",
    "\n",
    "for i in range(1,11):\n",
    "    print(i)"
   ]
  },
  {
   "cell_type": "code",
   "execution_count": 29,
   "id": "b2e24802",
   "metadata": {},
   "outputs": [
    {
     "name": "stdout",
     "output_type": "stream",
     "text": [
      "Sum of all even number from 1 to 50 are  650\n"
     ]
    }
   ],
   "source": [
    "## 13. write a code to find sum of all even number between 1 and 50\n",
    "\n",
    "s = 0   ## variable to store sum\n",
    "for i in range(1,51):\n",
    "    if i % 2 == 0:   ##condition to check the even number\n",
    "        s += i   ## adding it to the variable\n",
    "        \n",
    "print(\"Sum of all even number from 1 to 50 are \",s)"
   ]
  },
  {
   "cell_type": "code",
   "execution_count": 30,
   "id": "9cf6329a",
   "metadata": {},
   "outputs": [
    {
     "name": "stdout",
     "output_type": "stream",
     "text": [
      "Enter a string you want to be reversed = Aditya\n",
      "Reversed String =  aytidA\n"
     ]
    }
   ],
   "source": [
    "## 14. write a program to reverse a string using while loop\n",
    "\n",
    "name = input(\"Enter a string you want to be reversed = \")\n",
    "\n",
    "reversed_name = name[::-1]\n",
    "print(\"Reversed String = \",reversed_name)"
   ]
  },
  {
   "cell_type": "code",
   "execution_count": 31,
   "id": "70c8198f",
   "metadata": {},
   "outputs": [
    {
     "name": "stdout",
     "output_type": "stream",
     "text": [
      "Enter a number to find its factorial: 3\n",
      "The factorial of 3 is 6\n"
     ]
    }
   ],
   "source": [
    "## 15. write a program to find the factorial of number input given by the user using while loop\n",
    "\n",
    "\n",
    "n = int(input(\"Enter a number to find its factorial: \"))\n",
    "\n",
    "\n",
    "fact = 1\n",
    "i = n\n",
    "\n",
    "while i > 0:\n",
    "    fact *= i\n",
    "    i -= 1\n",
    "    \n",
    "print(f\"The factorial of {n} is {fact}\")\n"
   ]
  },
  {
   "cell_type": "code",
   "execution_count": null,
   "id": "8af72f01",
   "metadata": {},
   "outputs": [],
   "source": []
  }
 ],
 "metadata": {
  "kernelspec": {
   "display_name": "Python 3 (ipykernel)",
   "language": "python",
   "name": "python3"
  },
  "language_info": {
   "codemirror_mode": {
    "name": "ipython",
    "version": 3
   },
   "file_extension": ".py",
   "mimetype": "text/x-python",
   "name": "python",
   "nbconvert_exporter": "python",
   "pygments_lexer": "ipython3",
   "version": "3.11.5"
  }
 },
 "nbformat": 4,
 "nbformat_minor": 5
}
